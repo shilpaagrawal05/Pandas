{
 "cells": [
  {
   "cell_type": "markdown",
   "metadata": {},
   "source": [
    "### Heroes Of Pymoli Data Analysis\n",
    "* Of the 1163 active players, the vast majority are male (84%). There also exists, a smaller, but notable proportion of female players (14%).\n",
    "\n",
    "* Our peak age demographic falls between 20-24 (44.8%) with secondary groups falling between 15-19 (18.60%) and 25-29 (13.4%).  \n",
    "-----"
   ]
  },
  {
   "cell_type": "markdown",
   "metadata": {},
   "source": [
    "### Note\n",
    "* Instructions have been included for each segment. You do not have to follow them exactly, but they are included to help you think through the steps."
   ]
  },
  {
   "cell_type": "code",
   "execution_count": 3,
   "metadata": {},
   "outputs": [
    {
     "data": {
      "text/html": [
       "<div>\n",
       "<style scoped>\n",
       "    .dataframe tbody tr th:only-of-type {\n",
       "        vertical-align: middle;\n",
       "    }\n",
       "\n",
       "    .dataframe tbody tr th {\n",
       "        vertical-align: top;\n",
       "    }\n",
       "\n",
       "    .dataframe thead th {\n",
       "        text-align: right;\n",
       "    }\n",
       "</style>\n",
       "<table border=\"1\" class=\"dataframe\">\n",
       "  <thead>\n",
       "    <tr style=\"text-align: right;\">\n",
       "      <th></th>\n",
       "      <th>Purchase ID</th>\n",
       "      <th>SN</th>\n",
       "      <th>Age</th>\n",
       "      <th>Gender</th>\n",
       "      <th>Item ID</th>\n",
       "      <th>Item Name</th>\n",
       "      <th>Price</th>\n",
       "    </tr>\n",
       "  </thead>\n",
       "  <tbody>\n",
       "    <tr>\n",
       "      <th>0</th>\n",
       "      <td>0</td>\n",
       "      <td>Lisim78</td>\n",
       "      <td>20</td>\n",
       "      <td>Male</td>\n",
       "      <td>108</td>\n",
       "      <td>Extraction, Quickblade Of Trembling Hands</td>\n",
       "      <td>3.53</td>\n",
       "    </tr>\n",
       "    <tr>\n",
       "      <th>1</th>\n",
       "      <td>1</td>\n",
       "      <td>Lisovynya38</td>\n",
       "      <td>40</td>\n",
       "      <td>Male</td>\n",
       "      <td>143</td>\n",
       "      <td>Frenzied Scimitar</td>\n",
       "      <td>1.56</td>\n",
       "    </tr>\n",
       "    <tr>\n",
       "      <th>2</th>\n",
       "      <td>2</td>\n",
       "      <td>Ithergue48</td>\n",
       "      <td>24</td>\n",
       "      <td>Male</td>\n",
       "      <td>92</td>\n",
       "      <td>Final Critic</td>\n",
       "      <td>4.88</td>\n",
       "    </tr>\n",
       "    <tr>\n",
       "      <th>3</th>\n",
       "      <td>3</td>\n",
       "      <td>Chamassasya86</td>\n",
       "      <td>24</td>\n",
       "      <td>Male</td>\n",
       "      <td>100</td>\n",
       "      <td>Blindscythe</td>\n",
       "      <td>3.27</td>\n",
       "    </tr>\n",
       "    <tr>\n",
       "      <th>4</th>\n",
       "      <td>4</td>\n",
       "      <td>Iskosia90</td>\n",
       "      <td>23</td>\n",
       "      <td>Male</td>\n",
       "      <td>131</td>\n",
       "      <td>Fury</td>\n",
       "      <td>1.44</td>\n",
       "    </tr>\n",
       "  </tbody>\n",
       "</table>\n",
       "</div>"
      ],
      "text/plain": [
       "   Purchase ID             SN  Age Gender  Item ID  \\\n",
       "0            0        Lisim78   20   Male      108   \n",
       "1            1    Lisovynya38   40   Male      143   \n",
       "2            2     Ithergue48   24   Male       92   \n",
       "3            3  Chamassasya86   24   Male      100   \n",
       "4            4      Iskosia90   23   Male      131   \n",
       "\n",
       "                                   Item Name  Price  \n",
       "0  Extraction, Quickblade Of Trembling Hands   3.53  \n",
       "1                          Frenzied Scimitar   1.56  \n",
       "2                               Final Critic   4.88  \n",
       "3                                Blindscythe   3.27  \n",
       "4                                       Fury   1.44  "
      ]
     },
     "execution_count": 3,
     "metadata": {},
     "output_type": "execute_result"
    }
   ],
   "source": [
    "# Dependencies and Setup\n",
    "import pandas as pd\n",
    "import numpy as np\n",
    "\n",
    "# File to Load (Remember to Change These)\n",
    "file_to_load = \"Resources/purchase_data.csv\"\n",
    "\n",
    "# Read Purchasing File and store into Pandas data frame\n",
    "purchase_data = pd.read_csv(file_to_load)\n",
    "purchase_data.head()\n"
   ]
  },
  {
   "cell_type": "markdown",
   "metadata": {},
   "source": [
    "## Player Count"
   ]
  },
  {
   "cell_type": "markdown",
   "metadata": {},
   "source": [
    "* Display the total number of players\n"
   ]
  },
  {
   "cell_type": "code",
   "execution_count": 4,
   "metadata": {},
   "outputs": [
    {
     "data": {
      "text/html": [
       "<div>\n",
       "<style scoped>\n",
       "    .dataframe tbody tr th:only-of-type {\n",
       "        vertical-align: middle;\n",
       "    }\n",
       "\n",
       "    .dataframe tbody tr th {\n",
       "        vertical-align: top;\n",
       "    }\n",
       "\n",
       "    .dataframe thead th {\n",
       "        text-align: right;\n",
       "    }\n",
       "</style>\n",
       "<table border=\"1\" class=\"dataframe\">\n",
       "  <thead>\n",
       "    <tr style=\"text-align: right;\">\n",
       "      <th></th>\n",
       "      <th>Total Players</th>\n",
       "    </tr>\n",
       "  </thead>\n",
       "  <tbody>\n",
       "    <tr>\n",
       "      <th>0</th>\n",
       "      <td>576</td>\n",
       "    </tr>\n",
       "  </tbody>\n",
       "</table>\n",
       "</div>"
      ],
      "text/plain": [
       "   Total Players\n",
       "0            576"
      ]
     },
     "execution_count": 4,
     "metadata": {},
     "output_type": "execute_result"
    }
   ],
   "source": [
    "total_players = purchase_data[\"SN\"].nunique()\n",
    "df_total_players = pd.DataFrame({\"Total Players\":[total_players]})\n",
    "df_total_players"
   ]
  },
  {
   "cell_type": "markdown",
   "metadata": {},
   "source": [
    "## Purchasing Analysis (Total)"
   ]
  },
  {
   "cell_type": "markdown",
   "metadata": {},
   "source": [
    "* Run basic calculations to obtain number of unique items, average price, etc.\n",
    "\n",
    "\n",
    "* Create a summary data frame to hold the results\n",
    "\n",
    "\n",
    "* Optional: give the displayed data cleaner formatting\n",
    "\n",
    "\n",
    "* Display the summary data frame\n"
   ]
  },
  {
   "cell_type": "code",
   "execution_count": 86,
   "metadata": {
    "scrolled": true
   },
   "outputs": [
    {
     "data": {
      "text/html": [
       "<style  type=\"text/css\" >\n",
       "</style><table id=\"T_6ae69fd4_bef4_11e9_814b_48d705dade03\" ><thead>    <tr>        <th class=\"blank level0\" ></th>        <th class=\"col_heading level0 col0\" >Number of Unique Items</th>        <th class=\"col_heading level0 col1\" >Average Price</th>        <th class=\"col_heading level0 col2\" >Number of Purchases</th>        <th class=\"col_heading level0 col3\" >Total Revenue</th>    </tr></thead><tbody>\n",
       "                <tr>\n",
       "                        <th id=\"T_6ae69fd4_bef4_11e9_814b_48d705dade03level0_row0\" class=\"row_heading level0 row0\" >0</th>\n",
       "                        <td id=\"T_6ae69fd4_bef4_11e9_814b_48d705dade03row0_col0\" class=\"data row0 col0\" >183</td>\n",
       "                        <td id=\"T_6ae69fd4_bef4_11e9_814b_48d705dade03row0_col1\" class=\"data row0 col1\" >$3.05</td>\n",
       "                        <td id=\"T_6ae69fd4_bef4_11e9_814b_48d705dade03row0_col2\" class=\"data row0 col2\" >780</td>\n",
       "                        <td id=\"T_6ae69fd4_bef4_11e9_814b_48d705dade03row0_col3\" class=\"data row0 col3\" >$2379.77</td>\n",
       "            </tr>\n",
       "    </tbody></table>"
      ],
      "text/plain": [
       "<pandas.io.formats.style.Styler at 0x11e75d1d0>"
      ]
     },
     "execution_count": 86,
     "metadata": {},
     "output_type": "execute_result"
    }
   ],
   "source": [
    "num_unique_item = purchase_data[\"Item ID\"].nunique()\n",
    "avg_price = purchase_data[\"Price\"].mean()\n",
    "num_purchases = purchase_data[\"Purchase ID\"].count()\n",
    "total_revenue = purchase_data[\"Price\"].sum()\n",
    "\n",
    "df_purchase_analysis_tot = pd.DataFrame({\"Number of Unique Items\":[num_unique_item],\"Average Price\":[round(avg_price,2)],\"Number of Purchases\":[num_purchases],\"Total Revenue\":[total_revenue]})\n",
    "df_purchase_analysis_tot.style.format({\"Number of Unique Items\":\"{:,}\",\"Average Price\":\"${:.2f}\",\"Number of Purchases\":\"{:,}\",\"Total Revenue\":\"${:.2f}\"})"
   ]
  },
  {
   "cell_type": "markdown",
   "metadata": {},
   "source": [
    "## Gender Demographics"
   ]
  },
  {
   "cell_type": "markdown",
   "metadata": {},
   "source": [
    "* Percentage and Count of Male Players\n",
    "\n",
    "\n",
    "* Percentage and Count of Female Players\n",
    "\n",
    "\n",
    "* Percentage and Count of Other / Non-Disclosed\n",
    "\n",
    "\n"
   ]
  },
  {
   "cell_type": "code",
   "execution_count": 6,
   "metadata": {},
   "outputs": [
    {
     "data": {
      "text/html": [
       "<div>\n",
       "<style scoped>\n",
       "    .dataframe tbody tr th:only-of-type {\n",
       "        vertical-align: middle;\n",
       "    }\n",
       "\n",
       "    .dataframe tbody tr th {\n",
       "        vertical-align: top;\n",
       "    }\n",
       "\n",
       "    .dataframe thead th {\n",
       "        text-align: right;\n",
       "    }\n",
       "</style>\n",
       "<table border=\"1\" class=\"dataframe\">\n",
       "  <thead>\n",
       "    <tr style=\"text-align: right;\">\n",
       "      <th></th>\n",
       "      <th>Total Count</th>\n",
       "      <th>Percentage of Players</th>\n",
       "    </tr>\n",
       "  </thead>\n",
       "  <tbody>\n",
       "    <tr>\n",
       "      <th>Male</th>\n",
       "      <td>484</td>\n",
       "      <td>84.03</td>\n",
       "    </tr>\n",
       "    <tr>\n",
       "      <th>Female</th>\n",
       "      <td>81</td>\n",
       "      <td>14.06</td>\n",
       "    </tr>\n",
       "    <tr>\n",
       "      <th>Other / Non-Disclosed</th>\n",
       "      <td>11</td>\n",
       "      <td>1.91</td>\n",
       "    </tr>\n",
       "  </tbody>\n",
       "</table>\n",
       "</div>"
      ],
      "text/plain": [
       "                       Total Count  Percentage of Players\n",
       "Male                           484                  84.03\n",
       "Female                          81                  14.06\n",
       "Other / Non-Disclosed           11                   1.91"
      ]
     },
     "execution_count": 6,
     "metadata": {},
     "output_type": "execute_result"
    }
   ],
   "source": [
    "#  total_male = purchase_data.groupby('Gender').SN.nunique()\n",
    "\n",
    "total_male_df = purchase_data.loc[purchase_data[\"Gender\"] == \"Male\"]\n",
    "total_male = total_male_df[\"SN\"].nunique()\n",
    "\n",
    "total_female_df = purchase_data.loc[purchase_data[\"Gender\"] == \"Female\"]\n",
    "total_female = total_female_df[\"SN\"].nunique()\n",
    "\n",
    "total_other_df = purchase_data.loc[purchase_data[\"Gender\"] == \"Other / Non-Disclosed\"]\n",
    "total_other = total_other_df[\"SN\"].nunique()\n",
    "\n",
    "\n",
    "                           \n",
    "Percent_male = (total_male/total_players)*100\n",
    "Percent_female = (total_female/total_players)*100\n",
    "Percent_other = (total_other/total_players)*100\n",
    "df_gender_demo = pd.DataFrame({\"Total Count\":[total_male,total_female,total_other],\"Percentage of Players\":[Percent_male,Percent_female,Percent_other]},index = [\"Male\", \"Female\",\"Other / Non-Disclosed\"])\n",
    "df_gender_demo.round(2)\n"
   ]
  },
  {
   "cell_type": "markdown",
   "metadata": {},
   "source": [
    "\n",
    "## Purchasing Analysis (Gender)"
   ]
  },
  {
   "cell_type": "markdown",
   "metadata": {},
   "source": [
    "* Run basic calculations to obtain purchase count, avg. purchase price, avg. purchase total per person etc. by gender\n",
    "\n",
    "\n",
    "\n",
    "\n",
    "* Create a summary data frame to hold the results\n",
    "\n",
    "\n",
    "* Optional: give the displayed data cleaner formatting\n",
    "\n",
    "\n",
    "* Display the summary data frame"
   ]
  },
  {
   "cell_type": "code",
   "execution_count": 89,
   "metadata": {},
   "outputs": [
    {
     "data": {
      "text/html": [
       "<style  type=\"text/css\" >\n",
       "</style><table id=\"T_d50bc366_bef5_11e9_814b_48d705dade03\" ><thead>    <tr>        <th class=\"blank level0\" ></th>        <th class=\"col_heading level0 col0\" >Purchase Count</th>        <th class=\"col_heading level0 col1\" >Average Purchase Price</th>        <th class=\"col_heading level0 col2\" >Total Purchase Value</th>        <th class=\"col_heading level0 col3\" >Avg Total Purchase per Person</th>    </tr>    <tr>        <th class=\"index_name level0\" >Gender</th>        <th class=\"blank\" ></th>        <th class=\"blank\" ></th>        <th class=\"blank\" ></th>        <th class=\"blank\" ></th>    </tr></thead><tbody>\n",
       "                <tr>\n",
       "                        <th id=\"T_d50bc366_bef5_11e9_814b_48d705dade03level0_row0\" class=\"row_heading level0 row0\" >Female</th>\n",
       "                        <td id=\"T_d50bc366_bef5_11e9_814b_48d705dade03row0_col0\" class=\"data row0 col0\" >113</td>\n",
       "                        <td id=\"T_d50bc366_bef5_11e9_814b_48d705dade03row0_col1\" class=\"data row0 col1\" >$3.20</td>\n",
       "                        <td id=\"T_d50bc366_bef5_11e9_814b_48d705dade03row0_col2\" class=\"data row0 col2\" >$361.94</td>\n",
       "                        <td id=\"T_d50bc366_bef5_11e9_814b_48d705dade03row0_col3\" class=\"data row0 col3\" >$4.47</td>\n",
       "            </tr>\n",
       "            <tr>\n",
       "                        <th id=\"T_d50bc366_bef5_11e9_814b_48d705dade03level0_row1\" class=\"row_heading level0 row1\" >Male</th>\n",
       "                        <td id=\"T_d50bc366_bef5_11e9_814b_48d705dade03row1_col0\" class=\"data row1 col0\" >652</td>\n",
       "                        <td id=\"T_d50bc366_bef5_11e9_814b_48d705dade03row1_col1\" class=\"data row1 col1\" >$3.02</td>\n",
       "                        <td id=\"T_d50bc366_bef5_11e9_814b_48d705dade03row1_col2\" class=\"data row1 col2\" >$1967.64</td>\n",
       "                        <td id=\"T_d50bc366_bef5_11e9_814b_48d705dade03row1_col3\" class=\"data row1 col3\" >$4.07</td>\n",
       "            </tr>\n",
       "            <tr>\n",
       "                        <th id=\"T_d50bc366_bef5_11e9_814b_48d705dade03level0_row2\" class=\"row_heading level0 row2\" >Other / Non-Disclosed</th>\n",
       "                        <td id=\"T_d50bc366_bef5_11e9_814b_48d705dade03row2_col0\" class=\"data row2 col0\" >15</td>\n",
       "                        <td id=\"T_d50bc366_bef5_11e9_814b_48d705dade03row2_col1\" class=\"data row2 col1\" >$50.19</td>\n",
       "                        <td id=\"T_d50bc366_bef5_11e9_814b_48d705dade03row2_col2\" class=\"data row2 col2\" >$3.35</td>\n",
       "                        <td id=\"T_d50bc366_bef5_11e9_814b_48d705dade03row2_col3\" class=\"data row2 col3\" >$4.56</td>\n",
       "            </tr>\n",
       "    </tbody></table>"
      ],
      "text/plain": [
       "<pandas.io.formats.style.Styler at 0x11e795e10>"
      ]
     },
     "execution_count": 89,
     "metadata": {},
     "output_type": "execute_result"
    }
   ],
   "source": [
    "purchase_count_male = total_male_df[\"Purchase ID\"].count()\n",
    "tot_purchase_value_male = total_male_df[\"Price\"].sum()\n",
    "avg_purchase_price_male = tot_purchase_value_male/purchase_count_male\n",
    "avg_tot_purchase_per_person_male = tot_purchase_value_male/total_male\n",
    "\n",
    "purchase_count_female = total_female_df[\"Purchase ID\"].count()\n",
    "tot_purchase_value_female = total_female_df[\"Price\"].sum()\n",
    "avg_purchase_price_female = tot_purchase_value_female/purchase_count_female\n",
    "avg_tot_purchase_per_person_female = tot_purchase_value_female/total_female\n",
    "\n",
    "purchase_count_other = total_other_df[\"Purchase ID\"].count()\n",
    "tot_purchase_value_other = total_other_df[\"Price\"].sum()\n",
    "avg_purchase_price_other = tot_purchase_value_other/purchase_count_other\n",
    "avg_tot_purchase_per_person_other = tot_purchase_value_other/total_other\n",
    "\n",
    "df = pd.DataFrame({\"Purchase Count\":[purchase_count_male,purchase_count_female,purchase_count_other],\"Average Purchase Price\":[avg_purchase_price_male,avg_purchase_price_female,tot_purchase_value_other],\"Total Purchase Value\":[tot_purchase_value_male,tot_purchase_value_female,avg_purchase_price_other]\n",
    "                                     ,\"Avg Total Purchase per Person\":[avg_tot_purchase_per_person_male,avg_tot_purchase_per_person_female,avg_tot_purchase_per_person_other],\"Gender\":[\"Male\",\"Female\",\"Other / Non-Disclosed\"]}).groupby([\"Gender\"])\n",
    "\n",
    "df_purchase_analysis_gender = df.mean()\n",
    "df_purchase_analysis_gender.style.format({\"Purchase Count\":\"{:,}\",\"Average Purchase Price\":\"${:.2f}\",\"Total Purchase Value\":\n",
    "                                        \"${:.2f}\",\"Avg Total Purchase per Person\":\"${:.2f}\"})"
   ]
  },
  {
   "cell_type": "markdown",
   "metadata": {},
   "source": [
    "## Age Demographics"
   ]
  },
  {
   "cell_type": "markdown",
   "metadata": {},
   "source": [
    "* Establish bins for ages\n",
    "\n",
    "\n",
    "* Categorize the existing players using the age bins. Hint: use pd.cut()\n",
    "\n",
    "\n",
    "* Calculate the numbers and percentages by age group\n",
    "\n",
    "\n",
    "* Create a summary data frame to hold the results\n",
    "\n",
    "\n",
    "* Optional: round the percentage column to two decimal points\n",
    "\n",
    "\n",
    "* Display Age Demographics Table\n"
   ]
  },
  {
   "cell_type": "code",
   "execution_count": 21,
   "metadata": {},
   "outputs": [
    {
     "data": {
      "text/html": [
       "<div>\n",
       "<style scoped>\n",
       "    .dataframe tbody tr th:only-of-type {\n",
       "        vertical-align: middle;\n",
       "    }\n",
       "\n",
       "    .dataframe tbody tr th {\n",
       "        vertical-align: top;\n",
       "    }\n",
       "\n",
       "    .dataframe thead th {\n",
       "        text-align: right;\n",
       "    }\n",
       "</style>\n",
       "<table border=\"1\" class=\"dataframe\">\n",
       "  <thead>\n",
       "    <tr style=\"text-align: right;\">\n",
       "      <th></th>\n",
       "      <th>Total Count</th>\n",
       "      <th>Percentage of Players</th>\n",
       "    </tr>\n",
       "    <tr>\n",
       "      <th>Age_Bins</th>\n",
       "      <th></th>\n",
       "      <th></th>\n",
       "    </tr>\n",
       "  </thead>\n",
       "  <tbody>\n",
       "    <tr>\n",
       "      <th>&lt;10</th>\n",
       "      <td>17</td>\n",
       "      <td>2.95</td>\n",
       "    </tr>\n",
       "    <tr>\n",
       "      <th>10-14</th>\n",
       "      <td>22</td>\n",
       "      <td>3.82</td>\n",
       "    </tr>\n",
       "    <tr>\n",
       "      <th>15-19</th>\n",
       "      <td>107</td>\n",
       "      <td>18.58</td>\n",
       "    </tr>\n",
       "    <tr>\n",
       "      <th>20-24</th>\n",
       "      <td>258</td>\n",
       "      <td>44.79</td>\n",
       "    </tr>\n",
       "    <tr>\n",
       "      <th>25-29</th>\n",
       "      <td>77</td>\n",
       "      <td>13.37</td>\n",
       "    </tr>\n",
       "    <tr>\n",
       "      <th>30-34</th>\n",
       "      <td>52</td>\n",
       "      <td>9.03</td>\n",
       "    </tr>\n",
       "    <tr>\n",
       "      <th>35-39</th>\n",
       "      <td>31</td>\n",
       "      <td>5.38</td>\n",
       "    </tr>\n",
       "    <tr>\n",
       "      <th>40+</th>\n",
       "      <td>12</td>\n",
       "      <td>2.08</td>\n",
       "    </tr>\n",
       "  </tbody>\n",
       "</table>\n",
       "</div>"
      ],
      "text/plain": [
       "          Total Count  Percentage of Players\n",
       "Age_Bins                                    \n",
       "<10                17                   2.95\n",
       "10-14              22                   3.82\n",
       "15-19             107                  18.58\n",
       "20-24             258                  44.79\n",
       "25-29              77                  13.37\n",
       "30-34              52                   9.03\n",
       "35-39              31                   5.38\n",
       "40+                12                   2.08"
      ]
     },
     "execution_count": 21,
     "metadata": {},
     "output_type": "execute_result"
    }
   ],
   "source": [
    "bins = [0,9,14,19,24,29,34,39,50]\n",
    "group_names = [\"<10\",\"10-14\",\"15-19\",\"20-24\",\"25-29\",\"30-34\",\"35-39\",\"40+\"]\n",
    "purchase_data[\"Age_Bins\"] = pd.cut(purchase_data[\"Age\"], bins, labels =group_names )\n",
    "purchase_data\n",
    "\n",
    "\n",
    "\n",
    "total_count = purchase_data.groupby([\"Age_Bins\"])[\"SN\"].nunique()\n",
    "percent_of_players = round((total_count/total_players)*100,2)\n",
    "\n",
    "percent_of_players\n",
    "\n",
    "df_age_demo = pd.DataFrame({\"Total Count\":total_count,\"Percentage of Players\":percent_of_players})\n",
    "df_age_demo\n"
   ]
  },
  {
   "cell_type": "markdown",
   "metadata": {},
   "source": [
    "## Purchasing Analysis (Age)"
   ]
  },
  {
   "cell_type": "markdown",
   "metadata": {},
   "source": [
    "* Bin the purchase_data data frame by age\n",
    "\n",
    "\n",
    "* Run basic calculations to obtain purchase count, avg. purchase price, avg. purchase total per person etc. in the table below\n",
    "\n",
    "\n",
    "* Create a summary data frame to hold the results\n",
    "\n",
    "\n",
    "* Optional: give the displayed data cleaner formatting\n",
    "\n",
    "\n",
    "* Display the summary data frame"
   ]
  },
  {
   "cell_type": "code",
   "execution_count": 90,
   "metadata": {},
   "outputs": [
    {
     "data": {
      "text/html": [
       "<style  type=\"text/css\" >\n",
       "</style><table id=\"T_04d38548_bef6_11e9_814b_48d705dade03\" ><thead>    <tr>        <th class=\"blank level0\" ></th>        <th class=\"col_heading level0 col0\" >Purchase Count</th>        <th class=\"col_heading level0 col1\" >Average Purchase Price</th>        <th class=\"col_heading level0 col2\" >Total Purchase Value</th>        <th class=\"col_heading level0 col3\" >Avg Total Purchase per Person</th>    </tr>    <tr>        <th class=\"index_name level0\" >Age_Bins</th>        <th class=\"blank\" ></th>        <th class=\"blank\" ></th>        <th class=\"blank\" ></th>        <th class=\"blank\" ></th>    </tr></thead><tbody>\n",
       "                <tr>\n",
       "                        <th id=\"T_04d38548_bef6_11e9_814b_48d705dade03level0_row0\" class=\"row_heading level0 row0\" ><10</th>\n",
       "                        <td id=\"T_04d38548_bef6_11e9_814b_48d705dade03row0_col0\" class=\"data row0 col0\" >23</td>\n",
       "                        <td id=\"T_04d38548_bef6_11e9_814b_48d705dade03row0_col1\" class=\"data row0 col1\" >$3.35</td>\n",
       "                        <td id=\"T_04d38548_bef6_11e9_814b_48d705dade03row0_col2\" class=\"data row0 col2\" >$77.13</td>\n",
       "                        <td id=\"T_04d38548_bef6_11e9_814b_48d705dade03row0_col3\" class=\"data row0 col3\" >$4.54</td>\n",
       "            </tr>\n",
       "            <tr>\n",
       "                        <th id=\"T_04d38548_bef6_11e9_814b_48d705dade03level0_row1\" class=\"row_heading level0 row1\" >10-14</th>\n",
       "                        <td id=\"T_04d38548_bef6_11e9_814b_48d705dade03row1_col0\" class=\"data row1 col0\" >28</td>\n",
       "                        <td id=\"T_04d38548_bef6_11e9_814b_48d705dade03row1_col1\" class=\"data row1 col1\" >$2.96</td>\n",
       "                        <td id=\"T_04d38548_bef6_11e9_814b_48d705dade03row1_col2\" class=\"data row1 col2\" >$82.78</td>\n",
       "                        <td id=\"T_04d38548_bef6_11e9_814b_48d705dade03row1_col3\" class=\"data row1 col3\" >$3.76</td>\n",
       "            </tr>\n",
       "            <tr>\n",
       "                        <th id=\"T_04d38548_bef6_11e9_814b_48d705dade03level0_row2\" class=\"row_heading level0 row2\" >15-19</th>\n",
       "                        <td id=\"T_04d38548_bef6_11e9_814b_48d705dade03row2_col0\" class=\"data row2 col0\" >136</td>\n",
       "                        <td id=\"T_04d38548_bef6_11e9_814b_48d705dade03row2_col1\" class=\"data row2 col1\" >$3.04</td>\n",
       "                        <td id=\"T_04d38548_bef6_11e9_814b_48d705dade03row2_col2\" class=\"data row2 col2\" >$412.89</td>\n",
       "                        <td id=\"T_04d38548_bef6_11e9_814b_48d705dade03row2_col3\" class=\"data row2 col3\" >$3.86</td>\n",
       "            </tr>\n",
       "            <tr>\n",
       "                        <th id=\"T_04d38548_bef6_11e9_814b_48d705dade03level0_row3\" class=\"row_heading level0 row3\" >20-24</th>\n",
       "                        <td id=\"T_04d38548_bef6_11e9_814b_48d705dade03row3_col0\" class=\"data row3 col0\" >365</td>\n",
       "                        <td id=\"T_04d38548_bef6_11e9_814b_48d705dade03row3_col1\" class=\"data row3 col1\" >$3.05</td>\n",
       "                        <td id=\"T_04d38548_bef6_11e9_814b_48d705dade03row3_col2\" class=\"data row3 col2\" >$1114.06</td>\n",
       "                        <td id=\"T_04d38548_bef6_11e9_814b_48d705dade03row3_col3\" class=\"data row3 col3\" >$4.32</td>\n",
       "            </tr>\n",
       "            <tr>\n",
       "                        <th id=\"T_04d38548_bef6_11e9_814b_48d705dade03level0_row4\" class=\"row_heading level0 row4\" >25-29</th>\n",
       "                        <td id=\"T_04d38548_bef6_11e9_814b_48d705dade03row4_col0\" class=\"data row4 col0\" >101</td>\n",
       "                        <td id=\"T_04d38548_bef6_11e9_814b_48d705dade03row4_col1\" class=\"data row4 col1\" >$2.90</td>\n",
       "                        <td id=\"T_04d38548_bef6_11e9_814b_48d705dade03row4_col2\" class=\"data row4 col2\" >$293.00</td>\n",
       "                        <td id=\"T_04d38548_bef6_11e9_814b_48d705dade03row4_col3\" class=\"data row4 col3\" >$3.81</td>\n",
       "            </tr>\n",
       "            <tr>\n",
       "                        <th id=\"T_04d38548_bef6_11e9_814b_48d705dade03level0_row5\" class=\"row_heading level0 row5\" >30-34</th>\n",
       "                        <td id=\"T_04d38548_bef6_11e9_814b_48d705dade03row5_col0\" class=\"data row5 col0\" >73</td>\n",
       "                        <td id=\"T_04d38548_bef6_11e9_814b_48d705dade03row5_col1\" class=\"data row5 col1\" >$2.93</td>\n",
       "                        <td id=\"T_04d38548_bef6_11e9_814b_48d705dade03row5_col2\" class=\"data row5 col2\" >$214.00</td>\n",
       "                        <td id=\"T_04d38548_bef6_11e9_814b_48d705dade03row5_col3\" class=\"data row5 col3\" >$4.12</td>\n",
       "            </tr>\n",
       "            <tr>\n",
       "                        <th id=\"T_04d38548_bef6_11e9_814b_48d705dade03level0_row6\" class=\"row_heading level0 row6\" >35-39</th>\n",
       "                        <td id=\"T_04d38548_bef6_11e9_814b_48d705dade03row6_col0\" class=\"data row6 col0\" >41</td>\n",
       "                        <td id=\"T_04d38548_bef6_11e9_814b_48d705dade03row6_col1\" class=\"data row6 col1\" >$3.60</td>\n",
       "                        <td id=\"T_04d38548_bef6_11e9_814b_48d705dade03row6_col2\" class=\"data row6 col2\" >$147.67</td>\n",
       "                        <td id=\"T_04d38548_bef6_11e9_814b_48d705dade03row6_col3\" class=\"data row6 col3\" >$4.76</td>\n",
       "            </tr>\n",
       "            <tr>\n",
       "                        <th id=\"T_04d38548_bef6_11e9_814b_48d705dade03level0_row7\" class=\"row_heading level0 row7\" >40+</th>\n",
       "                        <td id=\"T_04d38548_bef6_11e9_814b_48d705dade03row7_col0\" class=\"data row7 col0\" >13</td>\n",
       "                        <td id=\"T_04d38548_bef6_11e9_814b_48d705dade03row7_col1\" class=\"data row7 col1\" >$2.94</td>\n",
       "                        <td id=\"T_04d38548_bef6_11e9_814b_48d705dade03row7_col2\" class=\"data row7 col2\" >$38.24</td>\n",
       "                        <td id=\"T_04d38548_bef6_11e9_814b_48d705dade03row7_col3\" class=\"data row7 col3\" >$3.19</td>\n",
       "            </tr>\n",
       "    </tbody></table>"
      ],
      "text/plain": [
       "<pandas.io.formats.style.Styler at 0x11e7957f0>"
      ]
     },
     "execution_count": 90,
     "metadata": {},
     "output_type": "execute_result"
    }
   ],
   "source": [
    "total_purchase_count = purchase_data.groupby([\"Age_Bins\"])[\"Purchase ID\"].count()\n",
    "avg_purchase_price = purchase_data.groupby([\"Age_Bins\"])[\"Price\"].mean()\n",
    "avg_purchase_price = round(avg_purchase_price,2)\n",
    "total_purchase_price = purchase_data.groupby([\"Age_Bins\"])[\"Price\"].sum()\n",
    "avg_purchase_per_person = round(total_purchase_price/total_count,2)\n",
    "\n",
    "df_purchase_analysis_age = pd.DataFrame({\"Purchase Count\":total_purchase_count,\"Average Purchase Price\":avg_purchase_price\n",
    "                                        ,\"Total Purchase Value\":total_purchase_price,\"Avg Total Purchase per Person\":\n",
    "                                        avg_purchase_per_person})\n",
    "\n",
    "df_purchase_analysis_age.style.format({\"Purchase Count\":\"{:,}\",\"Average Purchase Price\":\"${:.2f}\",\"Total Purchase Value\":\n",
    "                                        \"${:.2f}\",\"Avg Total Purchase per Person\":\"${:.2f}\"})"
   ]
  },
  {
   "cell_type": "markdown",
   "metadata": {},
   "source": [
    "## Top Spenders"
   ]
  },
  {
   "cell_type": "markdown",
   "metadata": {},
   "source": [
    "* Run basic calculations to obtain the results in the table below\n",
    "\n",
    "\n",
    "* Create a summary data frame to hold the results\n",
    "\n",
    "\n",
    "* Sort the total purchase value column in descending order\n",
    "\n",
    "\n",
    "* Optional: give the displayed data cleaner formatting\n",
    "\n",
    "\n",
    "* Display a preview of the summary data frame\n",
    "\n"
   ]
  },
  {
   "cell_type": "code",
   "execution_count": 91,
   "metadata": {},
   "outputs": [
    {
     "data": {
      "text/html": [
       "<style  type=\"text/css\" >\n",
       "</style><table id=\"T_71cbdeb6_bef6_11e9_814b_48d705dade03\" ><thead>    <tr>        <th class=\"blank level0\" ></th>        <th class=\"col_heading level0 col0\" >Purchase Count</th>        <th class=\"col_heading level0 col1\" >Average Purchase Price</th>        <th class=\"col_heading level0 col2\" >Total Purchase Value</th>    </tr>    <tr>        <th class=\"index_name level0\" >SN</th>        <th class=\"blank\" ></th>        <th class=\"blank\" ></th>        <th class=\"blank\" ></th>    </tr></thead><tbody>\n",
       "                <tr>\n",
       "                        <th id=\"T_71cbdeb6_bef6_11e9_814b_48d705dade03level0_row0\" class=\"row_heading level0 row0\" >Lisosia93</th>\n",
       "                        <td id=\"T_71cbdeb6_bef6_11e9_814b_48d705dade03row0_col0\" class=\"data row0 col0\" >5</td>\n",
       "                        <td id=\"T_71cbdeb6_bef6_11e9_814b_48d705dade03row0_col1\" class=\"data row0 col1\" >$3.79</td>\n",
       "                        <td id=\"T_71cbdeb6_bef6_11e9_814b_48d705dade03row0_col2\" class=\"data row0 col2\" >$18.96</td>\n",
       "            </tr>\n",
       "            <tr>\n",
       "                        <th id=\"T_71cbdeb6_bef6_11e9_814b_48d705dade03level0_row1\" class=\"row_heading level0 row1\" >Idastidru52</th>\n",
       "                        <td id=\"T_71cbdeb6_bef6_11e9_814b_48d705dade03row1_col0\" class=\"data row1 col0\" >4</td>\n",
       "                        <td id=\"T_71cbdeb6_bef6_11e9_814b_48d705dade03row1_col1\" class=\"data row1 col1\" >$3.86</td>\n",
       "                        <td id=\"T_71cbdeb6_bef6_11e9_814b_48d705dade03row1_col2\" class=\"data row1 col2\" >$15.45</td>\n",
       "            </tr>\n",
       "            <tr>\n",
       "                        <th id=\"T_71cbdeb6_bef6_11e9_814b_48d705dade03level0_row2\" class=\"row_heading level0 row2\" >Chamjask73</th>\n",
       "                        <td id=\"T_71cbdeb6_bef6_11e9_814b_48d705dade03row2_col0\" class=\"data row2 col0\" >3</td>\n",
       "                        <td id=\"T_71cbdeb6_bef6_11e9_814b_48d705dade03row2_col1\" class=\"data row2 col1\" >$4.61</td>\n",
       "                        <td id=\"T_71cbdeb6_bef6_11e9_814b_48d705dade03row2_col2\" class=\"data row2 col2\" >$13.83</td>\n",
       "            </tr>\n",
       "            <tr>\n",
       "                        <th id=\"T_71cbdeb6_bef6_11e9_814b_48d705dade03level0_row3\" class=\"row_heading level0 row3\" >Iral74</th>\n",
       "                        <td id=\"T_71cbdeb6_bef6_11e9_814b_48d705dade03row3_col0\" class=\"data row3 col0\" >4</td>\n",
       "                        <td id=\"T_71cbdeb6_bef6_11e9_814b_48d705dade03row3_col1\" class=\"data row3 col1\" >$3.40</td>\n",
       "                        <td id=\"T_71cbdeb6_bef6_11e9_814b_48d705dade03row3_col2\" class=\"data row3 col2\" >$13.62</td>\n",
       "            </tr>\n",
       "            <tr>\n",
       "                        <th id=\"T_71cbdeb6_bef6_11e9_814b_48d705dade03level0_row4\" class=\"row_heading level0 row4\" >Iskadarya95</th>\n",
       "                        <td id=\"T_71cbdeb6_bef6_11e9_814b_48d705dade03row4_col0\" class=\"data row4 col0\" >3</td>\n",
       "                        <td id=\"T_71cbdeb6_bef6_11e9_814b_48d705dade03row4_col1\" class=\"data row4 col1\" >$4.37</td>\n",
       "                        <td id=\"T_71cbdeb6_bef6_11e9_814b_48d705dade03row4_col2\" class=\"data row4 col2\" >$13.10</td>\n",
       "            </tr>\n",
       "    </tbody></table>"
      ],
      "text/plain": [
       "<pandas.io.formats.style.Styler at 0x11e795f60>"
      ]
     },
     "execution_count": 91,
     "metadata": {},
     "output_type": "execute_result"
    }
   ],
   "source": [
    "total_purchase_count = purchase_data.groupby([\"SN\"])[\"Purchase ID\"].count()\n",
    "\n",
    "\n",
    "avg_purchase_price = purchase_data.groupby([\"SN\"])[\"Price\"].mean()\n",
    "avg_purchase_price = round(avg_purchase_price,2)\n",
    "total_purchase_price = purchase_data.groupby([\"SN\"])[\"Price\"].sum()\n",
    "\n",
    "df_top_spenders = pd.DataFrame({\"Purchase Count\":total_purchase_count,\"Average Purchase Price\":avg_purchase_price\n",
    "                                ,\"Total Purchase Value\":total_purchase_price})\n",
    "df = df_top_spenders.sort_values([\"Total Purchase Value\"], ascending = False).head(5)\n",
    "df.style.format({\"Purchase Count\":\"{:,}\",\"Average Purchase Price\":\"${:.2f}\",\"Total Purchase Value\":\"${:.2f}\"})"
   ]
  },
  {
   "cell_type": "markdown",
   "metadata": {},
   "source": [
    "## Most Popular Items"
   ]
  },
  {
   "cell_type": "markdown",
   "metadata": {},
   "source": [
    "* Retrieve the Item ID, Item Name, and Item Price columns\n",
    "\n",
    "\n",
    "* Group by Item ID and Item Name. Perform calculations to obtain purchase count, item price, and total purchase value\n",
    "\n",
    "\n",
    "* Create a summary data frame to hold the results\n",
    "\n",
    "\n",
    "* Sort the purchase count column in descending order\n",
    "\n",
    "\n",
    "* Optional: give the displayed data cleaner formatting\n",
    "\n",
    "\n",
    "* Display a preview of the summary data frame\n",
    "\n"
   ]
  },
  {
   "cell_type": "code",
   "execution_count": 92,
   "metadata": {},
   "outputs": [
    {
     "data": {
      "text/html": [
       "<style  type=\"text/css\" >\n",
       "</style><table id=\"T_5b7b6f88_c030_11e9_814b_48d705dade03\" ><thead>    <tr>        <th class=\"blank\" ></th>        <th class=\"blank level0\" ></th>        <th class=\"col_heading level0 col0\" >Purchase Count</th>        <th class=\"col_heading level0 col1\" >Item Price</th>        <th class=\"col_heading level0 col2\" >Total Purchase Value</th>    </tr>    <tr>        <th class=\"index_name level0\" >Item ID</th>        <th class=\"index_name level1\" >Item Name</th>        <th class=\"blank\" ></th>        <th class=\"blank\" ></th>        <th class=\"blank\" ></th>    </tr></thead><tbody>\n",
       "                <tr>\n",
       "                        <th id=\"T_5b7b6f88_c030_11e9_814b_48d705dade03level0_row0\" class=\"row_heading level0 row0\" >178</th>\n",
       "                        <th id=\"T_5b7b6f88_c030_11e9_814b_48d705dade03level1_row0\" class=\"row_heading level1 row0\" >Oathbreaker, Last Hope of the Breaking Storm</th>\n",
       "                        <td id=\"T_5b7b6f88_c030_11e9_814b_48d705dade03row0_col0\" class=\"data row0 col0\" >12</td>\n",
       "                        <td id=\"T_5b7b6f88_c030_11e9_814b_48d705dade03row0_col1\" class=\"data row0 col1\" >$4.23</td>\n",
       "                        <td id=\"T_5b7b6f88_c030_11e9_814b_48d705dade03row0_col2\" class=\"data row0 col2\" >$50.76</td>\n",
       "            </tr>\n",
       "            <tr>\n",
       "                        <th id=\"T_5b7b6f88_c030_11e9_814b_48d705dade03level0_row1\" class=\"row_heading level0 row1\" >145</th>\n",
       "                        <th id=\"T_5b7b6f88_c030_11e9_814b_48d705dade03level1_row1\" class=\"row_heading level1 row1\" >Fiery Glass Crusader</th>\n",
       "                        <td id=\"T_5b7b6f88_c030_11e9_814b_48d705dade03row1_col0\" class=\"data row1 col0\" >9</td>\n",
       "                        <td id=\"T_5b7b6f88_c030_11e9_814b_48d705dade03row1_col1\" class=\"data row1 col1\" >$4.58</td>\n",
       "                        <td id=\"T_5b7b6f88_c030_11e9_814b_48d705dade03row1_col2\" class=\"data row1 col2\" >$41.22</td>\n",
       "            </tr>\n",
       "            <tr>\n",
       "                        <th id=\"T_5b7b6f88_c030_11e9_814b_48d705dade03level0_row2\" class=\"row_heading level0 row2\" >108</th>\n",
       "                        <th id=\"T_5b7b6f88_c030_11e9_814b_48d705dade03level1_row2\" class=\"row_heading level1 row2\" >Extraction, Quickblade Of Trembling Hands</th>\n",
       "                        <td id=\"T_5b7b6f88_c030_11e9_814b_48d705dade03row2_col0\" class=\"data row2 col0\" >9</td>\n",
       "                        <td id=\"T_5b7b6f88_c030_11e9_814b_48d705dade03row2_col1\" class=\"data row2 col1\" >$3.53</td>\n",
       "                        <td id=\"T_5b7b6f88_c030_11e9_814b_48d705dade03row2_col2\" class=\"data row2 col2\" >$31.77</td>\n",
       "            </tr>\n",
       "            <tr>\n",
       "                        <th id=\"T_5b7b6f88_c030_11e9_814b_48d705dade03level0_row3\" class=\"row_heading level0 row3\" >82</th>\n",
       "                        <th id=\"T_5b7b6f88_c030_11e9_814b_48d705dade03level1_row3\" class=\"row_heading level1 row3\" >Nirvana</th>\n",
       "                        <td id=\"T_5b7b6f88_c030_11e9_814b_48d705dade03row3_col0\" class=\"data row3 col0\" >9</td>\n",
       "                        <td id=\"T_5b7b6f88_c030_11e9_814b_48d705dade03row3_col1\" class=\"data row3 col1\" >$4.90</td>\n",
       "                        <td id=\"T_5b7b6f88_c030_11e9_814b_48d705dade03row3_col2\" class=\"data row3 col2\" >$44.10</td>\n",
       "            </tr>\n",
       "            <tr>\n",
       "                        <th id=\"T_5b7b6f88_c030_11e9_814b_48d705dade03level0_row4\" class=\"row_heading level0 row4\" >19</th>\n",
       "                        <th id=\"T_5b7b6f88_c030_11e9_814b_48d705dade03level1_row4\" class=\"row_heading level1 row4\" >Pursuit, Cudgel of Necromancy</th>\n",
       "                        <td id=\"T_5b7b6f88_c030_11e9_814b_48d705dade03row4_col0\" class=\"data row4 col0\" >8</td>\n",
       "                        <td id=\"T_5b7b6f88_c030_11e9_814b_48d705dade03row4_col1\" class=\"data row4 col1\" >$1.02</td>\n",
       "                        <td id=\"T_5b7b6f88_c030_11e9_814b_48d705dade03row4_col2\" class=\"data row4 col2\" >$8.16</td>\n",
       "            </tr>\n",
       "    </tbody></table>"
      ],
      "text/plain": [
       "<pandas.io.formats.style.Styler at 0x11d7ae9e8>"
      ]
     },
     "execution_count": 92,
     "metadata": {},
     "output_type": "execute_result"
    }
   ],
   "source": [
    "total_purchase_count = purchase_data.groupby([\"Item ID\",\"Item Name\"])[\"Purchase ID\"].count()\n",
    "item_price = purchase_data.groupby([\"Item ID\",\"Item Name\"])[\"Price\"].max()\n",
    "total_purchase_price = purchase_data.groupby([\"Item ID\",\"Item Name\"])[\"Price\"].sum()\n",
    "df_most_popular_items = pd.DataFrame({\"Purchase Count\":total_purchase_count,\"Item Price\":item_price,\"Total Purchase Value\":total_purchase_price})\n",
    "df = df_most_popular_items.sort_values([\"Purchase Count\"],ascending = False).head(5)\n",
    "df.style.format({\"Purchase Count\":\"{:,}\",\"Item Price\":\"${:.2f}\",\"Total Purchase Value\":\"${:.2f}\"}) "
   ]
  },
  {
   "cell_type": "markdown",
   "metadata": {},
   "source": [
    "## Most Profitable Items"
   ]
  },
  {
   "cell_type": "markdown",
   "metadata": {},
   "source": [
    "* Sort the above table by total purchase value in descending order\n",
    "\n",
    "\n",
    "* Optional: give the displayed data cleaner formatting\n",
    "\n",
    "\n",
    "* Display a preview of the data frame\n",
    "\n"
   ]
  },
  {
   "cell_type": "code",
   "execution_count": 93,
   "metadata": {
    "scrolled": true
   },
   "outputs": [
    {
     "data": {
      "text/html": [
       "<style  type=\"text/css\" >\n",
       "</style><table id=\"T_68ef0094_c030_11e9_814b_48d705dade03\" ><thead>    <tr>        <th class=\"blank\" ></th>        <th class=\"blank level0\" ></th>        <th class=\"col_heading level0 col0\" >Purchase Count</th>        <th class=\"col_heading level0 col1\" >Item Price</th>        <th class=\"col_heading level0 col2\" >Total Purchase Value</th>    </tr>    <tr>        <th class=\"index_name level0\" >Item ID</th>        <th class=\"index_name level1\" >Item Name</th>        <th class=\"blank\" ></th>        <th class=\"blank\" ></th>        <th class=\"blank\" ></th>    </tr></thead><tbody>\n",
       "                <tr>\n",
       "                        <th id=\"T_68ef0094_c030_11e9_814b_48d705dade03level0_row0\" class=\"row_heading level0 row0\" >178</th>\n",
       "                        <th id=\"T_68ef0094_c030_11e9_814b_48d705dade03level1_row0\" class=\"row_heading level1 row0\" >Oathbreaker, Last Hope of the Breaking Storm</th>\n",
       "                        <td id=\"T_68ef0094_c030_11e9_814b_48d705dade03row0_col0\" class=\"data row0 col0\" >12</td>\n",
       "                        <td id=\"T_68ef0094_c030_11e9_814b_48d705dade03row0_col1\" class=\"data row0 col1\" >$4.23</td>\n",
       "                        <td id=\"T_68ef0094_c030_11e9_814b_48d705dade03row0_col2\" class=\"data row0 col2\" >$50.76</td>\n",
       "            </tr>\n",
       "            <tr>\n",
       "                        <th id=\"T_68ef0094_c030_11e9_814b_48d705dade03level0_row1\" class=\"row_heading level0 row1\" >82</th>\n",
       "                        <th id=\"T_68ef0094_c030_11e9_814b_48d705dade03level1_row1\" class=\"row_heading level1 row1\" >Nirvana</th>\n",
       "                        <td id=\"T_68ef0094_c030_11e9_814b_48d705dade03row1_col0\" class=\"data row1 col0\" >9</td>\n",
       "                        <td id=\"T_68ef0094_c030_11e9_814b_48d705dade03row1_col1\" class=\"data row1 col1\" >$4.90</td>\n",
       "                        <td id=\"T_68ef0094_c030_11e9_814b_48d705dade03row1_col2\" class=\"data row1 col2\" >$44.10</td>\n",
       "            </tr>\n",
       "            <tr>\n",
       "                        <th id=\"T_68ef0094_c030_11e9_814b_48d705dade03level0_row2\" class=\"row_heading level0 row2\" >145</th>\n",
       "                        <th id=\"T_68ef0094_c030_11e9_814b_48d705dade03level1_row2\" class=\"row_heading level1 row2\" >Fiery Glass Crusader</th>\n",
       "                        <td id=\"T_68ef0094_c030_11e9_814b_48d705dade03row2_col0\" class=\"data row2 col0\" >9</td>\n",
       "                        <td id=\"T_68ef0094_c030_11e9_814b_48d705dade03row2_col1\" class=\"data row2 col1\" >$4.58</td>\n",
       "                        <td id=\"T_68ef0094_c030_11e9_814b_48d705dade03row2_col2\" class=\"data row2 col2\" >$41.22</td>\n",
       "            </tr>\n",
       "            <tr>\n",
       "                        <th id=\"T_68ef0094_c030_11e9_814b_48d705dade03level0_row3\" class=\"row_heading level0 row3\" >92</th>\n",
       "                        <th id=\"T_68ef0094_c030_11e9_814b_48d705dade03level1_row3\" class=\"row_heading level1 row3\" >Final Critic</th>\n",
       "                        <td id=\"T_68ef0094_c030_11e9_814b_48d705dade03row3_col0\" class=\"data row3 col0\" >8</td>\n",
       "                        <td id=\"T_68ef0094_c030_11e9_814b_48d705dade03row3_col1\" class=\"data row3 col1\" >$4.88</td>\n",
       "                        <td id=\"T_68ef0094_c030_11e9_814b_48d705dade03row3_col2\" class=\"data row3 col2\" >$39.04</td>\n",
       "            </tr>\n",
       "            <tr>\n",
       "                        <th id=\"T_68ef0094_c030_11e9_814b_48d705dade03level0_row4\" class=\"row_heading level0 row4\" >103</th>\n",
       "                        <th id=\"T_68ef0094_c030_11e9_814b_48d705dade03level1_row4\" class=\"row_heading level1 row4\" >Singed Scalpel</th>\n",
       "                        <td id=\"T_68ef0094_c030_11e9_814b_48d705dade03row4_col0\" class=\"data row4 col0\" >8</td>\n",
       "                        <td id=\"T_68ef0094_c030_11e9_814b_48d705dade03row4_col1\" class=\"data row4 col1\" >$4.35</td>\n",
       "                        <td id=\"T_68ef0094_c030_11e9_814b_48d705dade03row4_col2\" class=\"data row4 col2\" >$34.80</td>\n",
       "            </tr>\n",
       "    </tbody></table>"
      ],
      "text/plain": [
       "<pandas.io.formats.style.Styler at 0x11e795278>"
      ]
     },
     "execution_count": 93,
     "metadata": {},
     "output_type": "execute_result"
    }
   ],
   "source": [
    "df = df_most_popular_items.sort_values([\"Total Purchase Value\"],ascending = False).head(5)\n",
    "df.style.format({\"Purchase Count\":\"{:,}\",\"Item Price\":\"${:.2f}\",\"Total Purchase Value\":\"${:.2f}\"}) "
   ]
  },
  {
   "cell_type": "code",
   "execution_count": null,
   "metadata": {},
   "outputs": [],
   "source": []
  }
 ],
 "metadata": {
  "anaconda-cloud": {},
  "kernel_info": {
   "name": "python3"
  },
  "kernelspec": {
   "display_name": "Python 3",
   "language": "python",
   "name": "python3"
  },
  "language_info": {
   "codemirror_mode": {
    "name": "ipython",
    "version": 3
   },
   "file_extension": ".py",
   "mimetype": "text/x-python",
   "name": "python",
   "nbconvert_exporter": "python",
   "pygments_lexer": "ipython3",
   "version": "3.7.3"
  },
  "nteract": {
   "version": "0.2.0"
  }
 },
 "nbformat": 4,
 "nbformat_minor": 2
}
